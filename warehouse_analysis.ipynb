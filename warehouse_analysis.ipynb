{
 "cells": [
  {
   "cell_type": "markdown",
   "source": [
    "# Packages"
   ],
   "metadata": {}
  },
  {
   "cell_type": "code",
   "execution_count": 1,
   "source": [
    "import pandas as pd"
   ],
   "outputs": [],
   "metadata": {}
  },
  {
   "cell_type": "markdown",
   "source": [
    "# Readings"
   ],
   "metadata": {}
  },
  {
   "cell_type": "markdown",
   "source": [
    "# A description for each one of these sheets is given below:\r\n",
    "\r\n",
    "* orders: it contains the orders that need the calculation of baskets and cold bags. Also, you can see when the order must be delivered and which warehouse received the order.\r\n",
    "\r\n",
    "* order_products: contains what products and how many units of it were on an order from the sheet “orders”.\r\n",
    "\r\n",
    "* store_products: contains information about the storage of the products and a marketing category.\r\n",
    "\r\n",
    "* products: contains information about the products, its dimensions and weight, as well as their names and the can_mix category.\r\n"
   ],
   "metadata": {}
  },
  {
   "cell_type": "code",
   "execution_count": 2,
   "source": [
    "\r\n",
    "orders = pd.read_excel('dataset.xlsx', sheet_name='orders')\r\n",
    "order_products = pd.read_excel('dataset.xlsx', sheet_name='order_products')\r\n",
    "store_products = pd.read_excel('dataset.xlsx', sheet_name='store_products')\r\n",
    "products = pd.read_excel('dataset.xlsx', sheet_name='products')"
   ],
   "outputs": [],
   "metadata": {}
  },
  {
   "cell_type": "markdown",
   "source": [
    "# Important Informations"
   ],
   "metadata": {}
  },
  {
   "cell_type": "markdown",
   "source": [
    "### The baskets have the following characteristics:\r\n",
    "*\tLength: 50 centimeters\r\n",
    "*\tWidth: 40 centimeters\r\n",
    "*\tHeight: 60 centimeters\r\n",
    "\r\n",
    "Total weight that it can resit: 25 kilograms\r\n"
   ],
   "metadata": {}
  },
  {
   "cell_type": "markdown",
   "source": [
    "### The cold bags have the following characteristics:\r\n",
    "* Length: 23 centimeters\r\n",
    "* Width: 37 centimeters\r\n",
    "* Height: 18 centimeters\r\n",
    "\r\n",
    "Total weight that it can resit: 5 kilograms\r\n"
   ],
   "metadata": {}
  },
  {
   "cell_type": "markdown",
   "source": [
    "### A category that determines if the product can be mixed with other products\r\n",
    "* Food\r\n",
    "* Toilet\r\n",
    "* Pets\r\n",
    "\r\n",
    "### A storage type that determines the type of package that will be used for the product\r\n",
    "* Dry\r\n",
    "* Refrigerated\r\n",
    "* Frozen\r\n"
   ],
   "metadata": {}
  },
  {
   "cell_type": "code",
   "execution_count": 3,
   "source": [
    "orders.head(3)"
   ],
   "outputs": [
    {
     "output_type": "execute_result",
     "data": {
      "text/html": [
       "<div>\n",
       "<style scoped>\n",
       "    .dataframe tbody tr th:only-of-type {\n",
       "        vertical-align: middle;\n",
       "    }\n",
       "\n",
       "    .dataframe tbody tr th {\n",
       "        vertical-align: top;\n",
       "    }\n",
       "\n",
       "    .dataframe thead th {\n",
       "        text-align: right;\n",
       "    }\n",
       "</style>\n",
       "<table border=\"1\" class=\"dataframe\">\n",
       "  <thead>\n",
       "    <tr style=\"text-align: right;\">\n",
       "      <th></th>\n",
       "      <th>order_id</th>\n",
       "      <th>warehouse_id</th>\n",
       "      <th>delivery_date</th>\n",
       "      <th>user_id</th>\n",
       "    </tr>\n",
       "  </thead>\n",
       "  <tbody>\n",
       "    <tr>\n",
       "      <th>0</th>\n",
       "      <td>1781559</td>\n",
       "      <td>1</td>\n",
       "      <td>2020-02-01</td>\n",
       "      <td>89718</td>\n",
       "    </tr>\n",
       "    <tr>\n",
       "      <th>1</th>\n",
       "      <td>1781560</td>\n",
       "      <td>1</td>\n",
       "      <td>2020-02-02</td>\n",
       "      <td>487283</td>\n",
       "    </tr>\n",
       "    <tr>\n",
       "      <th>2</th>\n",
       "      <td>1781561</td>\n",
       "      <td>5</td>\n",
       "      <td>2020-02-02</td>\n",
       "      <td>477993</td>\n",
       "    </tr>\n",
       "  </tbody>\n",
       "</table>\n",
       "</div>"
      ],
      "text/plain": [
       "   order_id  warehouse_id delivery_date  user_id\n",
       "0   1781559             1    2020-02-01    89718\n",
       "1   1781560             1    2020-02-02   487283\n",
       "2   1781561             5    2020-02-02   477993"
      ]
     },
     "metadata": {},
     "execution_count": 3
    }
   ],
   "metadata": {}
  },
  {
   "cell_type": "code",
   "execution_count": 19,
   "source": [
    "print(orders.shape)\r\n",
    "print()\r\n",
    "print(orders.describe())\r\n",
    "print()\r\n",
    "print(orders.info())"
   ],
   "outputs": [
    {
     "output_type": "stream",
     "name": "stdout",
     "text": [
      "(26308, 4)\n",
      "\n",
      "           order_id  warehouse_id        user_id\n",
      "count  2.630800e+04  26308.000000   26308.000000\n",
      "mean   1.795241e+06      4.023567  507278.641896\n",
      "std    7.913503e+03      2.475480  232748.593153\n",
      "min    1.781559e+06      1.000000      12.000000\n",
      "25%    1.788343e+06      2.000000  306568.500000\n",
      "50%    1.795236e+06      5.000000  571123.000000\n",
      "75%    1.802152e+06      6.000000  720586.000000\n",
      "max    1.808868e+06    124.000000  766206.000000\n",
      "\n",
      "<class 'pandas.core.frame.DataFrame'>\n",
      "RangeIndex: 26308 entries, 0 to 26307\n",
      "Data columns (total 4 columns):\n",
      " #   Column         Non-Null Count  Dtype \n",
      "---  ------         --------------  ----- \n",
      " 0   order_id       26308 non-null  int64 \n",
      " 1   warehouse_id   26308 non-null  int64 \n",
      " 2   delivery_date  26308 non-null  object\n",
      " 3   user_id        26308 non-null  int64 \n",
      "dtypes: int64(3), object(1)\n",
      "memory usage: 822.2+ KB\n",
      "None\n"
     ]
    }
   ],
   "metadata": {}
  },
  {
   "cell_type": "code",
   "execution_count": 4,
   "source": [
    "order_products.head(3)"
   ],
   "outputs": [
    {
     "output_type": "execute_result",
     "data": {
      "text/html": [
       "<div>\n",
       "<style scoped>\n",
       "    .dataframe tbody tr th:only-of-type {\n",
       "        vertical-align: middle;\n",
       "    }\n",
       "\n",
       "    .dataframe tbody tr th {\n",
       "        vertical-align: top;\n",
       "    }\n",
       "\n",
       "    .dataframe thead th {\n",
       "        text-align: right;\n",
       "    }\n",
       "</style>\n",
       "<table border=\"1\" class=\"dataframe\">\n",
       "  <thead>\n",
       "    <tr style=\"text-align: right;\">\n",
       "      <th></th>\n",
       "      <th>order_id</th>\n",
       "      <th>store_product_id</th>\n",
       "      <th>quantity</th>\n",
       "    </tr>\n",
       "  </thead>\n",
       "  <tbody>\n",
       "    <tr>\n",
       "      <th>0</th>\n",
       "      <td>1781559</td>\n",
       "      <td>15970</td>\n",
       "      <td>1</td>\n",
       "    </tr>\n",
       "    <tr>\n",
       "      <th>1</th>\n",
       "      <td>1781559</td>\n",
       "      <td>8426</td>\n",
       "      <td>1</td>\n",
       "    </tr>\n",
       "    <tr>\n",
       "      <th>2</th>\n",
       "      <td>1781559</td>\n",
       "      <td>29720</td>\n",
       "      <td>1</td>\n",
       "    </tr>\n",
       "  </tbody>\n",
       "</table>\n",
       "</div>"
      ],
      "text/plain": [
       "   order_id  store_product_id  quantity\n",
       "0   1781559             15970         1\n",
       "1   1781559              8426         1\n",
       "2   1781559             29720         1"
      ]
     },
     "metadata": {},
     "execution_count": 4
    }
   ],
   "metadata": {}
  },
  {
   "cell_type": "code",
   "execution_count": 18,
   "source": [
    "print(order_products.shape)\r\n",
    "print()\r\n",
    "print(order_products.describe())\r\n",
    "print()\r\n",
    "print(order_products.info())"
   ],
   "outputs": [
    {
     "output_type": "stream",
     "name": "stdout",
     "text": [
      "(540964, 3)\n",
      "\n",
      "           order_id  store_product_id       quantity\n",
      "count  5.409640e+05     540964.000000  540964.000000\n",
      "mean   1.794980e+06      11171.634704       1.190016\n",
      "std    8.095775e+03       8041.202976       1.190351\n",
      "min    1.750301e+06          1.000000       0.000000\n",
      "25%    1.787783e+06       5670.000000       1.000000\n",
      "50%    1.794996e+06      11536.000000       1.000000\n",
      "75%    1.802197e+06      14931.000000       1.000000\n",
      "max    1.808868e+06      41325.000000     300.000000\n",
      "\n",
      "<class 'pandas.core.frame.DataFrame'>\n",
      "RangeIndex: 540964 entries, 0 to 540963\n",
      "Data columns (total 3 columns):\n",
      " #   Column            Non-Null Count   Dtype\n",
      "---  ------            --------------   -----\n",
      " 0   order_id          540964 non-null  int64\n",
      " 1   store_product_id  540964 non-null  int64\n",
      " 2   quantity          540964 non-null  int64\n",
      "dtypes: int64(3)\n",
      "memory usage: 12.4 MB\n",
      "None\n"
     ]
    }
   ],
   "metadata": {}
  },
  {
   "cell_type": "code",
   "execution_count": 5,
   "source": [
    "store_products.head(3)"
   ],
   "outputs": [
    {
     "output_type": "execute_result",
     "data": {
      "text/html": [
       "<div>\n",
       "<style scoped>\n",
       "    .dataframe tbody tr th:only-of-type {\n",
       "        vertical-align: middle;\n",
       "    }\n",
       "\n",
       "    .dataframe tbody tr th {\n",
       "        vertical-align: top;\n",
       "    }\n",
       "\n",
       "    .dataframe thead th {\n",
       "        text-align: right;\n",
       "    }\n",
       "</style>\n",
       "<table border=\"1\" class=\"dataframe\">\n",
       "  <thead>\n",
       "    <tr style=\"text-align: right;\">\n",
       "      <th></th>\n",
       "      <th>store_product_id</th>\n",
       "      <th>product_id</th>\n",
       "      <th>storage</th>\n",
       "      <th>category</th>\n",
       "    </tr>\n",
       "  </thead>\n",
       "  <tbody>\n",
       "    <tr>\n",
       "      <th>0</th>\n",
       "      <td>1</td>\n",
       "      <td>1</td>\n",
       "      <td>Seco</td>\n",
       "      <td>Aseo</td>\n",
       "    </tr>\n",
       "    <tr>\n",
       "      <th>1</th>\n",
       "      <td>2</td>\n",
       "      <td>2</td>\n",
       "      <td>Seco</td>\n",
       "      <td>Aseo</td>\n",
       "    </tr>\n",
       "    <tr>\n",
       "      <th>2</th>\n",
       "      <td>3</td>\n",
       "      <td>3</td>\n",
       "      <td>Seco</td>\n",
       "      <td>Aseo</td>\n",
       "    </tr>\n",
       "  </tbody>\n",
       "</table>\n",
       "</div>"
      ],
      "text/plain": [
       "   store_product_id  product_id storage category\n",
       "0                 1           1    Seco     Aseo\n",
       "1                 2           2    Seco     Aseo\n",
       "2                 3           3    Seco     Aseo"
      ]
     },
     "metadata": {},
     "execution_count": 5
    }
   ],
   "metadata": {}
  },
  {
   "cell_type": "code",
   "execution_count": 20,
   "source": [
    "print(store_products.shape)\r\n",
    "print()\r\n",
    "print(store_products.describe())\r\n",
    "print()\r\n",
    "print(store_products.info())"
   ],
   "outputs": [
    {
     "output_type": "stream",
     "name": "stdout",
     "text": [
      "(220043, 4)\n",
      "\n",
      "       store_product_id     product_id\n",
      "count     220043.000000  220043.000000\n",
      "mean      296323.832542  245685.245520\n",
      "std       202437.912801   69505.891852\n",
      "min            1.000000       0.000000\n",
      "25%       109014.500000  192249.500000\n",
      "50%       340879.000000  232944.000000\n",
      "75%       517053.500000  307519.500000\n",
      "max       574269.000000  358536.000000\n",
      "\n",
      "<class 'pandas.core.frame.DataFrame'>\n",
      "RangeIndex: 220043 entries, 0 to 220042\n",
      "Data columns (total 4 columns):\n",
      " #   Column            Non-Null Count   Dtype \n",
      "---  ------            --------------   ----- \n",
      " 0   store_product_id  220043 non-null  int64 \n",
      " 1   product_id        220043 non-null  int64 \n",
      " 2   storage           219994 non-null  object\n",
      " 3   category          208407 non-null  object\n",
      "dtypes: int64(2), object(2)\n",
      "memory usage: 6.7+ MB\n",
      "None\n"
     ]
    }
   ],
   "metadata": {}
  },
  {
   "cell_type": "code",
   "execution_count": 6,
   "source": [
    "products.head(3)"
   ],
   "outputs": [
    {
     "output_type": "execute_result",
     "data": {
      "text/html": [
       "<div>\n",
       "<style scoped>\n",
       "    .dataframe tbody tr th:only-of-type {\n",
       "        vertical-align: middle;\n",
       "    }\n",
       "\n",
       "    .dataframe tbody tr th {\n",
       "        vertical-align: top;\n",
       "    }\n",
       "\n",
       "    .dataframe thead th {\n",
       "        text-align: right;\n",
       "    }\n",
       "</style>\n",
       "<table border=\"1\" class=\"dataframe\">\n",
       "  <thead>\n",
       "    <tr style=\"text-align: right;\">\n",
       "      <th></th>\n",
       "      <th>product_id</th>\n",
       "      <th>reference</th>\n",
       "      <th>product_name</th>\n",
       "      <th>height</th>\n",
       "      <th>width</th>\n",
       "      <th>length</th>\n",
       "      <th>weight</th>\n",
       "      <th>can_mix</th>\n",
       "      <th>type</th>\n",
       "    </tr>\n",
       "  </thead>\n",
       "  <tbody>\n",
       "    <tr>\n",
       "      <th>0</th>\n",
       "      <td>1</td>\n",
       "      <td>7702191657874</td>\n",
       "      <td>Detergente Líquido Fab Floral 1Lt</td>\n",
       "      <td>23.0</td>\n",
       "      <td>13.0</td>\n",
       "      <td>8.0</td>\n",
       "      <td>1108.0</td>\n",
       "      <td>Toilet</td>\n",
       "      <td>Simple</td>\n",
       "    </tr>\n",
       "    <tr>\n",
       "      <th>1</th>\n",
       "      <td>2</td>\n",
       "      <td>7591107310060</td>\n",
       "      <td>Limpia Pisos Pinol Creso</td>\n",
       "      <td>27.0</td>\n",
       "      <td>10.0</td>\n",
       "      <td>7.0</td>\n",
       "      <td>0.0</td>\n",
       "      <td>Toilet</td>\n",
       "      <td>Simple</td>\n",
       "    </tr>\n",
       "    <tr>\n",
       "      <th>2</th>\n",
       "      <td>3</td>\n",
       "      <td>7702047129135</td>\n",
       "      <td>Colada Maizena Sabor Arequipe</td>\n",
       "      <td>1.0</td>\n",
       "      <td>13.0</td>\n",
       "      <td>12.0</td>\n",
       "      <td>33.0</td>\n",
       "      <td>Food</td>\n",
       "      <td>Simple</td>\n",
       "    </tr>\n",
       "  </tbody>\n",
       "</table>\n",
       "</div>"
      ],
      "text/plain": [
       "   product_id      reference                       product_name  height  \\\n",
       "0           1  7702191657874  Detergente Líquido Fab Floral 1Lt    23.0   \n",
       "1           2  7591107310060           Limpia Pisos Pinol Creso    27.0   \n",
       "2           3  7702047129135      Colada Maizena Sabor Arequipe     1.0   \n",
       "\n",
       "   width  length  weight can_mix    type  \n",
       "0   13.0     8.0  1108.0  Toilet  Simple  \n",
       "1   10.0     7.0     0.0  Toilet  Simple  \n",
       "2   13.0    12.0    33.0    Food  Simple  "
      ]
     },
     "metadata": {},
     "execution_count": 6
    }
   ],
   "metadata": {}
  },
  {
   "cell_type": "code",
   "execution_count": 22,
   "source": [
    "print(products.shape)\r\n",
    "print()\r\n",
    "print(products.describe())\r\n",
    "print()\r\n",
    "print(products.info())"
   ],
   "outputs": [
    {
     "output_type": "stream",
     "name": "stdout",
     "text": [
      "(104766, 9)\n",
      "\n",
      "          product_id         height          width         length  \\\n",
      "count  104766.000000  104664.000000  104663.000000  104662.000000   \n",
      "mean   280999.881546      15.205015      13.945176      10.337089   \n",
      "std     61765.160025     195.171175     387.399302      28.899994   \n",
      "min         1.000000       0.000000       0.000000       0.000000   \n",
      "25%    229206.250000       5.000000       5.000000       4.600000   \n",
      "50%    297746.500000      10.000000       7.300000       6.200000   \n",
      "75%    332121.750000      20.000000      15.000000      12.000000   \n",
      "max    358536.000000   44338.000000   44319.000000    7625.000000   \n",
      "\n",
      "              weight  \n",
      "count  104766.000000  \n",
      "mean      557.042151  \n",
      "std      4433.434087  \n",
      "min         0.000000  \n",
      "25%         4.000000  \n",
      "50%       100.000000  \n",
      "75%       500.000000  \n",
      "max    946000.000000  \n",
      "\n",
      "<class 'pandas.core.frame.DataFrame'>\n",
      "RangeIndex: 104766 entries, 0 to 104765\n",
      "Data columns (total 9 columns):\n",
      " #   Column        Non-Null Count   Dtype  \n",
      "---  ------        --------------   -----  \n",
      " 0   product_id    104766 non-null  int64  \n",
      " 1   reference     104766 non-null  object \n",
      " 2   product_name  104766 non-null  object \n",
      " 3   height        104664 non-null  float64\n",
      " 4   width         104663 non-null  float64\n",
      " 5   length        104662 non-null  float64\n",
      " 6   weight        104766 non-null  float64\n",
      " 7   can_mix       100292 non-null  object \n",
      " 8   type          104766 non-null  object \n",
      "dtypes: float64(4), int64(1), object(4)\n",
      "memory usage: 7.2+ MB\n",
      "None\n"
     ]
    }
   ],
   "metadata": {}
  },
  {
   "cell_type": "code",
   "execution_count": null,
   "source": [],
   "outputs": [],
   "metadata": {}
  },
  {
   "cell_type": "code",
   "execution_count": null,
   "source": [],
   "outputs": [],
   "metadata": {}
  }
 ],
 "metadata": {
  "interpreter": {
   "hash": "e498d712bea89263972a134f8b28ce3d9c62157d5c389fcab52812d3ee13c2ba"
  },
  "kernelspec": {
   "name": "python3",
   "display_name": "Python 3.9.6 64-bit"
  },
  "language_info": {
   "codemirror_mode": {
    "name": "ipython",
    "version": 3
   },
   "file_extension": ".py",
   "mimetype": "text/x-python",
   "name": "python",
   "nbconvert_exporter": "python",
   "pygments_lexer": "ipython3",
   "version": "3.9.6"
  }
 },
 "nbformat": 4,
 "nbformat_minor": 2
}